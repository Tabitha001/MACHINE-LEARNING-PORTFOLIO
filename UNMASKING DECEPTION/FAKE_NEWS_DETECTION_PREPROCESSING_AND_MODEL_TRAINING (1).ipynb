{
 "cells": [
  {
   "cell_type": "markdown",
   "id": "713c0624",
   "metadata": {
    "id": "713c0624"
   },
   "source": [
    "DETECTING FAKE NEWS STATEMENTS"
   ]
  },
  {
   "cell_type": "code",
   "execution_count": 2,
   "id": "b0446929",
   "metadata": {
    "id": "b0446929"
   },
   "outputs": [],
   "source": [
    "#import necessary libraries\n",
    "import pandas as pd\n",
    "import seaborn as sns\n",
    "import matplotlib.pyplot as plt\n",
    "\n",
    "import warnings\n",
    "warnings.filterwarnings('ignore')\n",
    "\n",
    "from collections import Counter\n",
    "\n",
    "import re\n",
    "import nltk\n",
    "from nltk.corpus import stopwords\n",
    "from nltk.stem import PorterStemmer\n",
    "from nltk.tokenize import word_tokenize\n",
    "\n",
    "from imblearn.over_sampling  import RandomOverSampler\n",
    "from sklearn.model_selection import train_test_split\n",
    "from sklearn.model_selection import GridSearchCV\n",
    "\n",
    "from sklearn.ensemble import RandomForestClassifier\n",
    "from sklearn.ensemble import GradientBoostingClassifier\n",
    "from sklearn.naive_bayes import MultinomialNB\n",
    "\n",
    "\n",
    "from sklearn.feature_extraction.text import CountVectorizer\n",
    "from sklearn.metrics import accuracy_score, classification_report\n",
    "\n",
    "\n"
   ]
  },
  {
   "cell_type": "code",
   "execution_count": 3,
   "id": "EAtNR-MrdNaQ",
   "metadata": {
    "colab": {
     "base_uri": "https://localhost:8080/",
     "height": 206
    },
    "id": "EAtNR-MrdNaQ",
    "outputId": "be48d03a-5ec9-4eb8-d57f-67a7792bce99"
   },
   "outputs": [
    {
     "data": {
      "text/html": [
       "<div>\n",
       "<style scoped>\n",
       "    .dataframe tbody tr th:only-of-type {\n",
       "        vertical-align: middle;\n",
       "    }\n",
       "\n",
       "    .dataframe tbody tr th {\n",
       "        vertical-align: top;\n",
       "    }\n",
       "\n",
       "    .dataframe thead th {\n",
       "        text-align: right;\n",
       "    }\n",
       "</style>\n",
       "<table border=\"1\" class=\"dataframe\">\n",
       "  <thead>\n",
       "    <tr style=\"text-align: right;\">\n",
       "      <th></th>\n",
       "      <th>Author</th>\n",
       "      <th>News_statement</th>\n",
       "      <th>Source</th>\n",
       "      <th>Validity_Check</th>\n",
       "    </tr>\n",
       "  </thead>\n",
       "  <tbody>\n",
       "    <tr>\n",
       "      <th>0</th>\n",
       "      <td>Andy Nguyen</td>\n",
       "      <td>The ocean is \"flat\" and \"contained\" by land fe...</td>\n",
       "      <td>Facebook posts</td>\n",
       "      <td>Fake</td>\n",
       "    </tr>\n",
       "    <tr>\n",
       "      <th>1</th>\n",
       "      <td>Jeff Cercone</td>\n",
       "      <td>\"Healthy pilots are suffering from myocarditis...</td>\n",
       "      <td>Instagram posts</td>\n",
       "      <td>Fake</td>\n",
       "    </tr>\n",
       "    <tr>\n",
       "      <th>2</th>\n",
       "      <td>Tom Kertscher</td>\n",
       "      <td>“Face masks may raise risk of stillbirths, tes...</td>\n",
       "      <td>Instagram posts</td>\n",
       "      <td>Fake</td>\n",
       "    </tr>\n",
       "    <tr>\n",
       "      <th>3</th>\n",
       "      <td>Sara Swann</td>\n",
       "      <td>“When fentanyl burns it smells like popcorn.”</td>\n",
       "      <td>Facebook posts</td>\n",
       "      <td>Fake</td>\n",
       "    </tr>\n",
       "    <tr>\n",
       "      <th>4</th>\n",
       "      <td>Loreben Tuquero</td>\n",
       "      <td>Chick-fil-A “donates another $1.8 million to a...</td>\n",
       "      <td>Instagram posts</td>\n",
       "      <td>Fake</td>\n",
       "    </tr>\n",
       "  </tbody>\n",
       "</table>\n",
       "</div>"
      ],
      "text/plain": [
       "            Author                                     News_statement  \\\n",
       "0      Andy Nguyen  The ocean is \"flat\" and \"contained\" by land fe...   \n",
       "1     Jeff Cercone  \"Healthy pilots are suffering from myocarditis...   \n",
       "2    Tom Kertscher  “Face masks may raise risk of stillbirths, tes...   \n",
       "3       Sara Swann      “When fentanyl burns it smells like popcorn.”   \n",
       "4  Loreben Tuquero  Chick-fil-A “donates another $1.8 million to a...   \n",
       "\n",
       "            Source Validity_Check  \n",
       "0   Facebook posts           Fake  \n",
       "1  Instagram posts           Fake  \n",
       "2  Instagram posts           Fake  \n",
       "3   Facebook posts           Fake  \n",
       "4  Instagram posts           Fake  "
      ]
     },
     "execution_count": 3,
     "metadata": {},
     "output_type": "execute_result"
    }
   ],
   "source": [
    "#read data with pandas\n",
    "news_df = pd.read_csv('../Downloads/NEWS_STATEMENTS.csv')\n",
    "news_df.head()"
   ]
  },
  {
   "cell_type": "code",
   "execution_count": 4,
   "id": "d0e4dff1",
   "metadata": {
    "id": "d0e4dff1"
   },
   "outputs": [],
   "source": [
    "#function to encode the validity check column\n",
    "def encode(column):\n",
    "    encoded_column = []\n",
    "    for value in column:\n",
    "        if value == 'Fake':\n",
    "            encoded_column.append(0)\n",
    "        else:\n",
    "            encoded_column.append(1)\n",
    "\n",
    "    return encoded_column"
   ]
  },
  {
   "cell_type": "code",
   "execution_count": 5,
   "id": "ecd7108c",
   "metadata": {
    "id": "ecd7108c"
   },
   "outputs": [],
   "source": [
    "#add the encoded values as column to the data frame\n",
    "news_df['Validity_check'] = encode(news_df['Validity_Check'])\n",
    "#drop the column that was encoded\n",
    "news_df.drop(['Validity_Check'], axis = 1, inplace = True)"
   ]
  },
  {
   "cell_type": "code",
   "execution_count": 6,
   "id": "a40fc915",
   "metadata": {
    "colab": {
     "base_uri": "https://localhost:8080/",
     "height": 206
    },
    "id": "a40fc915",
    "outputId": "bcd0ead6-a66b-4e79-d619-d869d3f7ae74"
   },
   "outputs": [
    {
     "data": {
      "text/html": [
       "<div>\n",
       "<style scoped>\n",
       "    .dataframe tbody tr th:only-of-type {\n",
       "        vertical-align: middle;\n",
       "    }\n",
       "\n",
       "    .dataframe tbody tr th {\n",
       "        vertical-align: top;\n",
       "    }\n",
       "\n",
       "    .dataframe thead th {\n",
       "        text-align: right;\n",
       "    }\n",
       "</style>\n",
       "<table border=\"1\" class=\"dataframe\">\n",
       "  <thead>\n",
       "    <tr style=\"text-align: right;\">\n",
       "      <th></th>\n",
       "      <th>Author</th>\n",
       "      <th>News_statement</th>\n",
       "      <th>Source</th>\n",
       "      <th>Validity_check</th>\n",
       "    </tr>\n",
       "  </thead>\n",
       "  <tbody>\n",
       "    <tr>\n",
       "      <th>0</th>\n",
       "      <td>Andy Nguyen</td>\n",
       "      <td>The ocean is \"flat\" and \"contained\" by land fe...</td>\n",
       "      <td>Facebook posts</td>\n",
       "      <td>0</td>\n",
       "    </tr>\n",
       "    <tr>\n",
       "      <th>1</th>\n",
       "      <td>Jeff Cercone</td>\n",
       "      <td>\"Healthy pilots are suffering from myocarditis...</td>\n",
       "      <td>Instagram posts</td>\n",
       "      <td>0</td>\n",
       "    </tr>\n",
       "    <tr>\n",
       "      <th>2</th>\n",
       "      <td>Tom Kertscher</td>\n",
       "      <td>“Face masks may raise risk of stillbirths, tes...</td>\n",
       "      <td>Instagram posts</td>\n",
       "      <td>0</td>\n",
       "    </tr>\n",
       "    <tr>\n",
       "      <th>3</th>\n",
       "      <td>Sara Swann</td>\n",
       "      <td>“When fentanyl burns it smells like popcorn.”</td>\n",
       "      <td>Facebook posts</td>\n",
       "      <td>0</td>\n",
       "    </tr>\n",
       "    <tr>\n",
       "      <th>4</th>\n",
       "      <td>Loreben Tuquero</td>\n",
       "      <td>Chick-fil-A “donates another $1.8 million to a...</td>\n",
       "      <td>Instagram posts</td>\n",
       "      <td>0</td>\n",
       "    </tr>\n",
       "  </tbody>\n",
       "</table>\n",
       "</div>"
      ],
      "text/plain": [
       "            Author                                     News_statement  \\\n",
       "0      Andy Nguyen  The ocean is \"flat\" and \"contained\" by land fe...   \n",
       "1     Jeff Cercone  \"Healthy pilots are suffering from myocarditis...   \n",
       "2    Tom Kertscher  “Face masks may raise risk of stillbirths, tes...   \n",
       "3       Sara Swann      “When fentanyl burns it smells like popcorn.”   \n",
       "4  Loreben Tuquero  Chick-fil-A “donates another $1.8 million to a...   \n",
       "\n",
       "            Source  Validity_check  \n",
       "0   Facebook posts               0  \n",
       "1  Instagram posts               0  \n",
       "2  Instagram posts               0  \n",
       "3   Facebook posts               0  \n",
       "4  Instagram posts               0  "
      ]
     },
     "execution_count": 6,
     "metadata": {},
     "output_type": "execute_result"
    }
   ],
   "source": [
    "news_df.head()"
   ]
  },
  {
   "cell_type": "code",
   "execution_count": 7,
   "id": "1d25ae0b",
   "metadata": {
    "colab": {
     "base_uri": "https://localhost:8080/",
     "height": 468
    },
    "id": "1d25ae0b",
    "outputId": "cb8453fc-1b8a-4fb8-eb0e-111137af2a9e"
   },
   "outputs": [
    {
     "data": {
      "text/plain": [
       "<AxesSubplot:xlabel='Validity_check', ylabel='count'>"
      ]
     },
     "execution_count": 7,
     "metadata": {},
     "output_type": "execute_result"
    },
    {
     "data": {
      "image/png": "[encoded data removed]",
      "text/plain": [
       "<Figure size 432x288 with 1 Axes>"
      ]
     },
     "metadata": {
      "needs_background": "light"
     },
     "output_type": "display_data"
    }
   ],
   "source": [
    "sns.countplot(x = news_df['Validity_check'])"
   ]
  },
  {
   "cell_type": "markdown",
   "id": "e6ca0f46",
   "metadata": {
    "id": "e6ca0f46"
   },
   "source": [
    "There is an imbalance in the Target values(Validity check).\n",
    "\n",
    "A solution to this would be to oversample the minority values in the column."
   ]
  },
  {
   "cell_type": "code",
   "execution_count": 8,
   "id": "4f3ec870",
   "metadata": {
    "id": "4f3ec870"
   },
   "outputs": [],
   "source": [
    "#split data into input and target variable\n",
    "X = (news_df['News_statement']).values.reshape(-1, 1)\n",
    "y = (news_df['Validity_check']).values.reshape(-1, 1)"
   ]
  },
  {
   "cell_type": "code",
   "execution_count": 9,
   "id": "c5547e38",
   "metadata": {
    "id": "c5547e38"
   },
   "outputs": [],
   "source": [
    "#oversample the dataset\n",
    "oversample = RandomOverSampler(sampling_strategy='not majority')\n",
    "x_sampled, y_sampled = oversample.fit_resample(X, y)\n",
    "\n",
    "X = x_sampled\n",
    "y = y_sampled"
   ]
  },
  {
   "cell_type": "code",
   "execution_count": 10,
   "id": "b9efd03b",
   "metadata": {
    "colab": {
     "base_uri": "https://localhost:8080/"
    },
    "id": "b9efd03b",
    "outputId": "cc4496c4-ac46-45cf-ba0c-e1474e96487c"
   },
   "outputs": [
    {
     "name": "stdout",
     "output_type": "stream",
     "text": [
      "[(0, 9483), (1, 9483)]\n"
     ]
    }
   ],
   "source": [
    "#check for the oversampling done by counting the classes present after oversampling the column\n",
    "print(sorted(Counter(y).items()))"
   ]
  },
  {
   "cell_type": "code",
   "execution_count": 11,
   "id": "b62484a7",
   "metadata": {
    "colab": {
     "base_uri": "https://localhost:8080/",
     "height": 965
    },
    "id": "b62484a7",
    "outputId": "2f967537-bebf-4676-d88b-c008cbf6eb07"
   },
   "outputs": [
    {
     "data": {
      "image/png": "[encoded data removed]",
      "text/plain": [
       "<Figure size 1296x432 with 2 Axes>"
      ]
     },
     "metadata": {
      "needs_background": "light"
     },
     "output_type": "display_data"
    }
   ],
   "source": [
    "#visualize the oversampling results\n",
    "plt.figure(figsize=(18,6))\n",
    "plt.suptitle('Target column Before Over-sampling and after Over-Sampling')\n",
    "plt.subplot(1,2,1)\n",
    "sns.countplot(x = news_df['Validity_check'], palette=['#ec4646','#00af91'])\n",
    "plt.subplot(1,2,2)\n",
    "sns.countplot(y, x = 'Validity_check', palette=['#ec4646','#00af91'] )\n",
    "plt.show()"
   ]
  },
  {
   "cell_type": "markdown",
   "id": "10f8abb1",
   "metadata": {
    "id": "10f8abb1"
   },
   "source": [
    "splitting the data into training, validation, and test sets before preprocessing it to avoid data leakage."
   ]
  },
  {
   "cell_type": "code",
   "execution_count": 15,
   "id": "7c2829df",
   "metadata": {
    "id": "7c2829df"
   },
   "outputs": [],
   "source": [
    "# Split the data into training, validation, and test sets\n",
    "train_data, test_data, train_labels, test_labels = train_test_split(X, y, test_size=0.15, random_state=42)\n",
    "train_data, val_data, train_labels, val_labels = train_test_split(train_data, train_labels, test_size=0.1765, random_state=42)\n"
   ]
  },
  {
   "cell_type": "code",
   "execution_count": 16,
   "id": "2f05c55c",
   "metadata": {
    "colab": {
     "base_uri": "https://localhost:8080/"
    },
    "id": "2f05c55c",
    "outputId": "13d9f34e-dda7-4d42-be36-f7cb04016d75"
   },
   "outputs": [
    {
     "name": "stdout",
     "output_type": "stream",
     "text": [
      "Train data shape: (13275, 1)\n",
      "Validation data shape: (2846, 1)\n",
      "Test data shape: (2845, 1)\n",
      "--------------------------------------------------\n",
      "Train labels shape: (13275,)\n",
      "Validation labels shape: (2846,)\n",
      "Test labels shape: (2845,)\n"
     ]
    }
   ],
   "source": [
    "# print the shapes of the resulting datasets\n",
    "print(\"Train data shape:\", train_data.shape)\n",
    "print(\"Validation data shape:\", val_data.shape)\n",
    "print(\"Test data shape:\", test_data.shape)\n",
    "print('--------------------------------------------------')\n",
    "print(\"Train labels shape:\", train_labels.shape)\n",
    "print(\"Validation labels shape:\", val_labels.shape)\n",
    "print(\"Test labels shape:\", test_labels.shape)"
   ]
  },
  {
   "cell_type": "markdown",
   "id": "27502280",
   "metadata": {
    "id": "27502280"
   },
   "source": [
    "Now that the data has been split, it's time to preprocess it.\n",
    "\n",
    "To avoid repetition of lines of codes, Functions will be written for some of the preprocessing"
   ]
  },
  {
   "cell_type": "code",
   "execution_count": 17,
   "id": "7d6ad8cd",
   "metadata": {
    "id": "7d6ad8cd"
   },
   "outputs": [],
   "source": [
    "#function to clean (standardize) data by removing extraneous characters making it easier to tokenize\n",
    "def clean_data(data):\n",
    "    cleaned = []\n",
    "    for word in data:\n",
    "        #Convert to lowercase\n",
    "        word = str(word).lower()\n",
    "        #get rid of urls\n",
    "        word = re.sub('https?://\\S+|www\\.\\S+', '', word)\n",
    "        # get rid of non words and extra spaces\n",
    "        word = re.sub('\\\\W', ' ', word)\n",
    "        word = re.sub('\\n', '', word)\n",
    "        word = re.sub(' +', ' ', word)\n",
    "        word = re.sub('^ ', '', word)\n",
    "        word = re.sub(' $', '', word)\n",
    "        cleaned.append(word)\n",
    "    return cleaned"
   ]
  },
  {
   "cell_type": "code",
   "execution_count": 18,
   "id": "c975f700",
   "metadata": {
    "id": "c975f700"
   },
   "outputs": [],
   "source": [
    "#apply the function on the train, validation and test data\n",
    "train_data = clean_data(train_data)\n",
    "val_data = clean_data(val_data)\n",
    "test_data = clean_data(test_data)"
   ]
  },
  {
   "cell_type": "code",
   "execution_count": 19,
   "id": "5iO4z2mD9rjk",
   "metadata": {
    "id": "5iO4z2mD9rjk"
   },
   "outputs": [],
   "source": [
    "\n",
    "# Feature Extraction using CountVectorizer (bag-of-words representation)\n",
    "vectorizer = CountVectorizer()\n",
    "train_data = vectorizer.fit_transform(train_data)\n",
    "test_data = vectorizer.transform(test_data)\n",
    "\n"
   ]
  },
  {
   "cell_type": "markdown",
   "id": "YVQhNjEaKyRO",
   "metadata": {
    "id": "YVQhNjEaKyRO"
   },
   "source": [
    "##MODEL TRAINING\n",
    "\n",
    "\n",
    "*models trainned:*\n",
    "\n",
    "Naive-Bayes Classifier\n",
    "\n",
    "Gradient Boosting Classifier\n",
    "\n",
    "Random Forest Classifier"
   ]
  },
  {
   "cell_type": "code",
   "execution_count": 23,
   "id": "lmp3Fge69rg-",
   "metadata": {
    "colab": {
     "base_uri": "https://localhost:8080/"
    },
    "id": "lmp3Fge69rg-",
    "outputId": "696838b8-4678-4f75-91b3-0ce97a0c2dde"
   },
   "outputs": [
    {
     "name": "stdout",
     "output_type": "stream",
     "text": [
      "Accuracy: 0.7652021089630932\n",
      "Classification Report:\n",
      "              precision    recall  f1-score   support\n",
      "\n",
      "           0       0.82      0.69      0.75      1442\n",
      "           1       0.73      0.84      0.78      1403\n",
      "\n",
      "    accuracy                           0.77      2845\n",
      "   macro avg       0.77      0.77      0.76      2845\n",
      "weighted avg       0.77      0.77      0.76      2845\n",
      "\n"
     ]
    }
   ],
   "source": [
    "# Train the Naive Bayes Classifier\n",
    "nb_classifier = MultinomialNB()\n",
    "nb_classifier.fit(train_data, train_labels)\n",
    "\n",
    "# Predict on the test set\n",
    "predictions = nb_classifier.predict(test_data)\n",
    "\n",
    "# Evaluate the model\n",
    "nb_accuracy = accuracy_score(test_labels, predictions)\n",
    "nb_report = classification_report(test_labels, predictions)\n",
    "\n",
    "print(\"Accuracy:\", nb_accuracy)\n",
    "print(\"Classification Report:\")\n",
    "print(nb_report)\n"
   ]
  },
  {
   "cell_type": "code",
   "execution_count": 24,
   "id": "rLinYnNBICyx",
   "metadata": {
    "colab": {
     "base_uri": "https://localhost:8080/"
    },
    "id": "rLinYnNBICyx",
    "outputId": "b031d4c7-a107-4064-9ef4-4548da6ddeb5"
   },
   "outputs": [
    {
     "name": "stdout",
     "output_type": "stream",
     "text": [
      "Accuracy: 0.6966608084358523\n",
      "Classification Report:\n",
      "              precision    recall  f1-score   support\n",
      "\n",
      "           0       0.69      0.74      0.71      1442\n",
      "           1       0.71      0.65      0.68      1403\n",
      "\n",
      "    accuracy                           0.70      2845\n",
      "   macro avg       0.70      0.70      0.70      2845\n",
      "weighted avg       0.70      0.70      0.70      2845\n",
      "\n"
     ]
    }
   ],
   "source": [
    "# Train the Gradient Boosting Classifier\n",
    "gbm_classifier = GradientBoostingClassifier()\n",
    "gbm_classifier.fit(train_data, train_labels)\n",
    "\n",
    "# Predict on the test set\n",
    "predictions = gbm_classifier.predict(test_data)\n",
    "\n",
    "# Evaluate the model\n",
    "gbm_accuracy = accuracy_score(test_labels, predictions)\n",
    "gbm_report = classification_report(test_labels, predictions)\n",
    "\n",
    "print(\"Accuracy:\", gbm_accuracy)\n",
    "print(\"Classification Report:\")\n",
    "print(gbm_report)"
   ]
  },
  {
   "cell_type": "code",
   "execution_count": 25,
   "id": "PGOJbyMxICwO",
   "metadata": {
    "colab": {
     "base_uri": "https://localhost:8080/"
    },
    "id": "PGOJbyMxICwO",
    "outputId": "c7ec8476-4f20-4b88-b3a7-1663b0ba4d69"
   },
   "outputs": [
    {
     "name": "stdout",
     "output_type": "stream",
     "text": [
      "Accuracy: 0.8221441124780317\n",
      "Classification Report:\n",
      "              precision    recall  f1-score   support\n",
      "\n",
      "           0       0.85      0.79      0.82      1442\n",
      "           1       0.80      0.86      0.83      1403\n",
      "\n",
      "    accuracy                           0.82      2845\n",
      "   macro avg       0.82      0.82      0.82      2845\n",
      "weighted avg       0.82      0.82      0.82      2845\n",
      "\n"
     ]
    }
   ],
   "source": [
    "# Train the Random Forest Classifier\n",
    "rf_classifier = RandomForestClassifier()\n",
    "rf_classifier.fit(train_data, train_labels)\n",
    "\n",
    "# Predict on the test set\n",
    "predictions = rf_classifier.predict(test_data)\n",
    "\n",
    "# Evaluate the model\n",
    "rf_accuracy = accuracy_score(test_labels, predictions)\n",
    "rf_report = classification_report(test_labels, predictions)\n",
    "\n",
    "print(\"Accuracy:\", rf_accuracy)\n",
    "print(\"Classification Report:\")\n",
    "print(rf_report)"
   ]
  },
  {
   "cell_type": "code",
   "execution_count": null,
   "id": "TUFQuK6C9MYD",
   "metadata": {
    "id": "TUFQuK6C9MYD"
   },
   "outputs": [],
   "source": []
  },
  {
   "cell_type": "code",
   "execution_count": 26,
   "id": "bfewOBaKP4ql",
   "metadata": {
    "colab": {
     "base_uri": "https://localhost:8080/",
     "height": 143
    },
    "id": "bfewOBaKP4ql",
    "outputId": "d8e8984b-2748-4e2d-bd38-208dd6dcd42d"
   },
   "outputs": [
    {
     "data": {
      "text/html": [
       "\n",
       "\n",
       "  <div id=\"df-5e9a0127-1bee-489a-847d-916e0744973b\">\n",
       "    <div class=\"colab-df-container\">\n",
       "      <div>\n",
       "<style scoped>\n",
       "    .dataframe tbody tr th:only-of-type {\n",
       "        vertical-align: middle;\n",
       "    }\n",
       "\n",
       "    .dataframe tbody tr th {\n",
       "        vertical-align: top;\n",
       "    }\n",
       "\n",
       "    .dataframe thead th {\n",
       "        text-align: right;\n",
       "    }\n",
       "</style>\n",
       "<table border=\"1\" class=\"dataframe\">\n",
       "  <thead>\n",
       "    <tr style=\"text-align: right;\">\n",
       "      <th></th>\n",
       "      <th>Model</th>\n",
       "      <th>Accuracy(%)</th>\n",
       "    </tr>\n",
       "  </thead>\n",
       "  <tbody>\n",
       "    <tr>\n",
       "      <th>0</th>\n",
       "      <td>nb_classifier</td>\n",
       "      <td>76.52</td>\n",
       "    </tr>\n",
       "    <tr>\n",
       "      <th>1</th>\n",
       "      <td>gbm_Classifier</td>\n",
       "      <td>69.67</td>\n",
       "    </tr>\n",
       "    <tr>\n",
       "      <th>2</th>\n",
       "      <td>rf_Classifier</td>\n",
       "      <td>82.21</td>\n",
       "    </tr>\n",
       "  </tbody>\n",
       "</table>\n",
       "</div>\n",
       "      <button class=\"colab-df-convert\" onclick=\"convertToInteractive('df-5e9a0127-1bee-489a-847d-916e0744973b')\"\n",
       "              title=\"Convert this dataframe to an interactive table.\"\n",
       "              style=\"display:none;\">\n",
       "\n",
       "  <svg xmlns=\"http://www.w3.org/2000/svg\" height=\"24px\"viewBox=\"0 0 24 24\"\n",
       "       width=\"24px\">\n",
       "    <path d=\"M0 0h24v24H0V0z\" fill=\"none\"/>\n",
       "    <path d=\"M18.56 5.44l.94 2.06.94-2.06 2.06-.94-2.06-.94-.94-2.06-.94 2.06-2.06.94zm-11 1L8.5 8.5l.94-2.06 2.06-.94-2.06-.94L8.5 2.5l-.94 2.06-2.06.94zm10 10l.94 2.06.94-2.06 2.06-.94-2.06-.94-.94-2.06-.94 2.06-2.06.94z\"/><path d=\"M17.41 7.96l-1.37-1.37c-.4-.4-.92-.59-1.43-.59-.52 0-1.04.2-1.43.59L10.3 9.45l-7.72 7.72c-.78.78-.78 2.05 0 2.83L4 21.41c.39.39.9.59 1.41.59.51 0 1.02-.2 1.41-.59l7.78-7.78 2.81-2.81c.8-.78.8-2.07 0-2.86zM5.41 20L4 18.59l7.72-7.72 1.47 1.35L5.41 20z\"/>\n",
       "  </svg>\n",
       "      </button>\n",
       "\n",
       "\n",
       "\n",
       "    <div id=\"df-99189b39-b66e-4be0-bb37-2cf78acf23a1\">\n",
       "      <button class=\"colab-df-quickchart\" onclick=\"quickchart('df-99189b39-b66e-4be0-bb37-2cf78acf23a1')\"\n",
       "              title=\"Suggest charts.\"\n",
       "              style=\"display:none;\">\n",
       "\n",
       "<svg xmlns=\"http://www.w3.org/2000/svg\" height=\"24px\"viewBox=\"0 0 24 24\"\n",
       "     width=\"24px\">\n",
       "    <g>\n",
       "        <path d=\"M19 3H5c-1.1 0-2 .9-2 2v14c0 1.1.9 2 2 2h14c1.1 0 2-.9 2-2V5c0-1.1-.9-2-2-2zM9 17H7v-7h2v7zm4 0h-2V7h2v10zm4 0h-2v-4h2v4z\"/>\n",
       "    </g>\n",
       "</svg>\n",
       "      </button>\n",
       "    </div>\n",
       "\n",
       "<style>\n",
       "  .colab-df-quickchart {\n",
       "    background-color: #E8F0FE;\n",
       "    border: none;\n",
       "    border-radius: 50%;\n",
       "    cursor: pointer;\n",
       "    display: none;\n",
       "    fill: #1967D2;\n",
       "    height: 32px;\n",
       "    padding: 0 0 0 0;\n",
       "    width: 32px;\n",
       "  }\n",
       "\n",
       "  .colab-df-quickchart:hover {\n",
       "    background-color: #E2EBFA;\n",
       "    box-shadow: 0px 1px 2px rgba(60, 64, 67, 0.3), 0px 1px 3px 1px rgba(60, 64, 67, 0.15);\n",
       "    fill: #174EA6;\n",
       "  }\n",
       "\n",
       "  [theme=dark] .colab-df-quickchart {\n",
       "    background-color: #3B4455;\n",
       "    fill: #D2E3FC;\n",
       "  }\n",
       "\n",
       "  [theme=dark] .colab-df-quickchart:hover {\n",
       "    background-color: #434B5C;\n",
       "    box-shadow: 0px 1px 3px 1px rgba(0, 0, 0, 0.15);\n",
       "    filter: drop-shadow(0px 1px 2px rgba(0, 0, 0, 0.3));\n",
       "    fill: #FFFFFF;\n",
       "  }\n",
       "</style>\n",
       "\n",
       "    <script>\n",
       "      async function quickchart(key) {\n",
       "        const containerElement = document.querySelector('#' + key);\n",
       "        const charts = await google.colab.kernel.invokeFunction(\n",
       "            'suggestCharts', [key], {});\n",
       "      }\n",
       "    </script>\n",
       "\n",
       "      <script>\n",
       "\n",
       "function displayQuickchartButton(domScope) {\n",
       "  let quickchartButtonEl =\n",
       "    domScope.querySelector('#df-99189b39-b66e-4be0-bb37-2cf78acf23a1 button.colab-df-quickchart');\n",
       "  quickchartButtonEl.style.display =\n",
       "    google.colab.kernel.accessAllowed ? 'block' : 'none';\n",
       "}\n",
       "\n",
       "        displayQuickchartButton(document);\n",
       "      </script>\n",
       "      <style>\n",
       "    .colab-df-container {\n",
       "      display:flex;\n",
       "      flex-wrap:wrap;\n",
       "      gap: 12px;\n",
       "    }\n",
       "\n",
       "    .colab-df-convert {\n",
       "      background-color: #E8F0FE;\n",
       "      border: none;\n",
       "      border-radius: 50%;\n",
       "      cursor: pointer;\n",
       "      display: none;\n",
       "      fill: #1967D2;\n",
       "      height: 32px;\n",
       "      padding: 0 0 0 0;\n",
       "      width: 32px;\n",
       "    }\n",
       "\n",
       "    .colab-df-convert:hover {\n",
       "      background-color: #E2EBFA;\n",
       "      box-shadow: 0px 1px 2px rgba(60, 64, 67, 0.3), 0px 1px 3px 1px rgba(60, 64, 67, 0.15);\n",
       "      fill: #174EA6;\n",
       "    }\n",
       "\n",
       "    [theme=dark] .colab-df-convert {\n",
       "      background-color: #3B4455;\n",
       "      fill: #D2E3FC;\n",
       "    }\n",
       "\n",
       "    [theme=dark] .colab-df-convert:hover {\n",
       "      background-color: #434B5C;\n",
       "      box-shadow: 0px 1px 3px 1px rgba(0, 0, 0, 0.15);\n",
       "      filter: drop-shadow(0px 1px 2px rgba(0, 0, 0, 0.3));\n",
       "      fill: #FFFFFF;\n",
       "    }\n",
       "  </style>\n",
       "\n",
       "      <script>\n",
       "        const buttonEl =\n",
       "          document.querySelector('#df-5e9a0127-1bee-489a-847d-916e0744973b button.colab-df-convert');\n",
       "        buttonEl.style.display =\n",
       "          google.colab.kernel.accessAllowed ? 'block' : 'none';\n",
       "\n",
       "        async function convertToInteractive(key) {\n",
       "          const element = document.querySelector('#df-5e9a0127-1bee-489a-847d-916e0744973b');\n",
       "          const dataTable =\n",
       "            await google.colab.kernel.invokeFunction('convertToInteractive',\n",
       "                                                     [key], {});\n",
       "          if (!dataTable) return;\n",
       "\n",
       "          const docLinkHtml = 'Like what you see? Visit the ' +\n",
       "            '<a target=\"_blank\" href=https://colab.research.google.com/notebooks/data_table.ipynb>data table notebook</a>'\n",
       "            + ' to learn more about interactive tables.';\n",
       "          element.innerHTML = '';\n",
       "          dataTable['output_type'] = 'display_data';\n",
       "          await google.colab.output.renderOutput(dataTable, element);\n",
       "          const docLink = document.createElement('div');\n",
       "          docLink.innerHTML = docLinkHtml;\n",
       "          element.appendChild(docLink);\n",
       "        }\n",
       "      </script>\n",
       "    </div>\n",
       "  </div>\n"
      ],
      "text/plain": [
       "            Model Accuracy(%)\n",
       "0   nb_classifier       76.52\n",
       "1  gbm_Classifier       69.67\n",
       "2   rf_Classifier       82.21"
      ]
     },
     "execution_count": 26,
     "metadata": {},
     "output_type": "execute_result"
    }
   ],
   "source": [
    "#create a dictionary for the models and accuracies\n",
    "model_df = {\n",
    "    'Model': [\n",
    "    'nb_classifier',\n",
    "    'gbm_Classifier',\n",
    "    'rf_Classifier',\n",
    "    ],\n",
    "\n",
    "    'Accuracy(%)': [\n",
    "        f\"{nb_accuracy*100:.2f}\",\n",
    "        f\"{gbm_accuracy*100:.2f}\",\n",
    "        f\"{rf_accuracy*100:.2f}\",\n",
    "        ]\n",
    "}\n",
    "\n",
    "\n",
    "#create a dataframe from the dictionary\n",
    "evaluation_metrics = pd.DataFrame(model_df)\n",
    "\n",
    "evaluation_metrics\n",
    "\n"
   ]
  },
  {
   "cell_type": "code",
   "execution_count": 27,
   "id": "9Klbd440-iF6",
   "metadata": {
    "id": "9Klbd440-iF6"
   },
   "outputs": [],
   "source": [
    "# Convert the 'Accuracy(%)' column to float\n",
    "evaluation_metrics['Accuracy(%)'] = evaluation_metrics['Accuracy(%)'].astype(float)"
   ]
  },
  {
   "cell_type": "code",
   "execution_count": 28,
   "id": "FN428P7s-_WS",
   "metadata": {
    "colab": {
     "base_uri": "https://localhost:8080/",
     "height": 472
    },
    "id": "FN428P7s-_WS",
    "outputId": "5468a7b9-0a94-4943-d911-dc6fe0833515"
   },
   "outputs": [
    {
     "data": {
      "image/png": "[encoded data removed]",
      "text/plain": [
       "<Figure size 640x480 with 1 Axes>"
      ]
     },
     "metadata": {},
     "output_type": "display_data"
    }
   ],
   "source": [
    "# Plot the model accuracies using a bar plot\n",
    "sns.barplot(x='Accuracy(%)', y='Model', data=evaluation_metrics)\n",
    "\n",
    "# Add labels and title\n",
    "plt.xlabel('Accuracy(%)')\n",
    "plt.ylabel('Model')\n",
    "plt.title('Visualization of Model Accuracies')\n",
    "\n",
    "# Show the plot\n",
    "plt.show()"
   ]
  },
  {
   "cell_type": "code",
   "execution_count": null,
   "id": "4yKasNb0BrIi",
   "metadata": {
    "id": "4yKasNb0BrIi"
   },
   "outputs": [],
   "source": []
  }
 ],
 "metadata": {
  "colab": {
   "provenance": []
  },
  "kernelspec": {
   "display_name": "Python 3 (ipykernel)",
   "language": "python",
   "name": "python3"
  },
  "language_info": {
   "codemirror_mode": {
    "name": "ipython",
    "version": 3
   },
   "file_extension": ".py",
   "mimetype": "text/x-python",
   "name": "python",
   "nbconvert_exporter": "python",
   "pygments_lexer": "ipython3",
   "version": "3.9.12"
  }
 },
 "nbformat": 4,
 "nbformat_minor": 5
}
